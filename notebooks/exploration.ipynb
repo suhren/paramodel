{
    "cells": [
        {
            "attachments": {},
            "cell_type": "markdown",
            "metadata": {},
            "source": [
                "# Exploration Notebook used for testing"
            ]
        },
        {
            "cell_type": "code",
            "execution_count": null,
            "metadata": {},
            "outputs": [],
            "source": [
                "import requests\n",
                "import sys\n",
                "import platform\n",
                "import os\n",
                "import subprocess"
            ]
        },
        {
            "attachments": {},
            "cell_type": "markdown",
            "metadata": {},
            "source": [
                "## Check the operating system platform"
            ]
        },
        {
            "cell_type": "code",
            "execution_count": null,
            "metadata": {},
            "outputs": [],
            "source": [
                "print(f\"Identified python version {sys.version}\")\n",
                "print(f\"Identified platform {platform.platform()}\")\n",
                "print(f\"Identified system {platform.system()}\")"
            ]
        },
        {
            "attachments": {},
            "cell_type": "markdown",
            "metadata": {},
            "source": [
                "## Generate images from STL files using OpenSCAD"
            ]
        },
        {
            "cell_type": "code",
            "execution_count": null,
            "metadata": {},
            "outputs": [],
            "source": [
                "notebook_dir = os.getcwd()\n",
                "\n",
                "opencad_exe_path = \"C:/Program Files/OpenSCAD/openscad.exe\"\n",
                "input_stl_path = f\"{notebook_dir}/../tests/assets/test.stl\"\n",
                "input_tmp_openscad_file_path = f\"{notebook_dir}/tmp_openscad_file.scad\"\n",
                "output_image_path = f\"{notebook_dir}/image.png\"\n",
                "\n",
                "contents = f'import(\"{input_stl_path}\");'.replace(\"\\\\\", \"/\")\n",
                "\n",
                "with open(input_tmp_openscad_file_path, \"w\") as f:\n",
                "    f.write(contents)\n",
                "\n",
                "cmd = [\n",
                "    opencad_exe_path,\n",
                "    \"-o\",\n",
                "    output_image_path,\n",
                "    \"--autocenter\",\n",
                "    \"--viewall\",\n",
                "    \"--imgsize=512,512\",\n",
                "    input_tmp_openscad_file_path,\n",
                "]\n",
                "\n",
                "subprocess.run(cmd)"
            ]
        },
        {
            "attachments": {},
            "cell_type": "markdown",
            "metadata": {},
            "source": [
                "## Test API endpoint to generate and send a STL file"
            ]
        },
        {
            "cell_type": "code",
            "execution_count": null,
            "metadata": {},
            "outputs": [],
            "source": [
                "endpoint = f\"http://localhost:80/api/generate_and_send\"\n",
                "\n",
                "json = {\n",
                "    \"model\": \"pot-inner-basic\",\n",
                "    \"parameters\": {\n",
                "        \"height\": 60,  # 100\n",
                "        \"diameter_bottom\": 80,  # 80\n",
                "        \"diameter_top\": 100,  # 100\n",
                "        \"thickness_bottom\": 4,  # 4\n",
                "        \"thickness_side\": 2,  # 2\n",
                "    },\n",
                "}\n",
                "res = requests.post(\n",
                "    endpoint,\n",
                "    json=json,\n",
                ")\n",
                "\n",
                "print(res)\n",
                "print(res.headers)\n",
                "\n",
                "content_disposition = res.headers.get(\"Content-Disposition\")\n",
                "file_name = content_disposition.split(\"filename=\")[1]\n",
                "\n",
                "with open(file_name, \"wb\") as file:\n",
                "    file.write(res.content)"
            ]
        },
        {
            "attachments": {},
            "cell_type": "markdown",
            "metadata": {},
            "source": [
                "## Test the FreeCAD API"
            ]
        },
        {
            "cell_type": "code",
            "execution_count": null,
            "metadata": {},
            "outputs": [],
            "source": [
                "freecad_windows_path = \"C:/Program Files/FreeCAD 0.20/bin\"\n",
                "\n",
                "sys.path.append(freecad_windows_path)\n",
                "\n",
                "import FreeCAD\n",
                "\n",
                "print(f\"Loaded FreeCAD version {FreeCAD.Version()}\")\n",
                "\n",
                "import Mesh\n",
                "\n",
                "print(Mesh)\n"
            ]
        }
    ],
    "metadata": {
        "kernelspec": {
            "display_name": "paramodel",
            "language": "python",
            "name": "python3"
        },
        "language_info": {
            "codemirror_mode": {
                "name": "ipython",
                "version": 3
            },
            "file_extension": ".py",
            "mimetype": "text/x-python",
            "name": "python",
            "nbconvert_exporter": "python",
            "pygments_lexer": "ipython3",
            "version": "3.8.16"
        },
        "orig_nbformat": 4
    },
    "nbformat": 4,
    "nbformat_minor": 2
}
